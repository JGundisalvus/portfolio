{
 "cells": [
  {
   "cell_type": "code",
   "execution_count": 19,
   "metadata": {},
   "outputs": [],
   "source": [
    "from dash import Dash, html, dash_table, dcc\n",
    "import pandas as pd\n",
    "import plotly.express as px"
   ]
  },
  {
   "cell_type": "code",
   "execution_count": 20,
   "metadata": {},
   "outputs": [],
   "source": [
    "# Get Data\n",
    "df = pd.read_csv('https://raw.githubusercontent.com/plotly/datasets/master/gapminder2007.csv')"
   ]
  },
  {
   "cell_type": "code",
   "execution_count": 21,
   "metadata": {},
   "outputs": [
    {
     "data": {
      "text/html": [
       "\n",
       "        <iframe\n",
       "            width=\"100%\"\n",
       "            height=\"650\"\n",
       "            src=\"http://127.0.0.1:8050/\"\n",
       "            frameborder=\"0\"\n",
       "            allowfullscreen\n",
       "            \n",
       "        ></iframe>\n",
       "        "
      ],
      "text/plain": [
       "<IPython.lib.display.IFrame at 0x235e2462e50>"
      ]
     },
     "metadata": {},
     "output_type": "display_data"
    }
   ],
   "source": [
    "import plotly\n",
    "from jupyter_dash import JupyterDash\n",
    "\n",
    "app = Dash()\n",
    "\n",
    "app.layout = html.Div(children=[\n",
    "        html.H1('Marriages in Poland by Age group and Gender'),\n",
    "        html.Div(\n",
    "            children=[\n",
    "                dcc.Dropdown(\n",
    "                id='graph-selector',\n",
    "                options=[\n",
    "                    {'label' :'Total' , 'Value': 'total'},\n",
    "                    {'label' :'Women' , 'Value': 'gender-women'},\n",
    "                    {'label' :'Men' , 'Value': 'gender-male'},\n",
    "                ],\n",
    "                style={'width': '48%', 'display': 'inline-block', 'margin-right': '4%'}\n",
    "            ),\n",
    "            dcc.Dropdown(\n",
    "                id='age-selector',\n",
    "                options=[\n",
    "                    {'label' :'<20' , 'Value': '<20'},\n",
    "                    {'label' :'20-24' , 'Value': '20-24'},\n",
    "                    {'label' :'25-29' , 'Value': '25-29'},\n",
    "                ],\n",
    "                style={'width': '48%', 'display': 'inline-block', 'margin-right': '4%'}\n",
    "            )\n",
    "            ],\n",
    "            style={'display': 'flex', 'justify-content': 'space-between'}\n",
    "        )\n",
    "        ]\n",
    "    )\n",
    "\n",
    "\n",
    "\n",
    "if __name__ == '__main__':\n",
    "    app.run()\n"
   ]
  },
  {
   "cell_type": "code",
   "execution_count": null,
   "metadata": {},
   "outputs": [],
   "source": []
  }
 ],
 "metadata": {
  "kernelspec": {
   "display_name": "Python 3",
   "language": "python",
   "name": "python3"
  },
  "language_info": {
   "codemirror_mode": {
    "name": "ipython",
    "version": 3
   },
   "file_extension": ".py",
   "mimetype": "text/x-python",
   "name": "python",
   "nbconvert_exporter": "python",
   "pygments_lexer": "ipython3",
   "version": "3.11.0"
  }
 },
 "nbformat": 4,
 "nbformat_minor": 2
}
