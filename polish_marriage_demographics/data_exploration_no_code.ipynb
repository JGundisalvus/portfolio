{
 "cells": [
  {
   "cell_type": "markdown",
   "metadata": {},
   "source": [
    "# How Have Marriages Changed Over the Years?"
   ]
  },
  {
   "cell_type": "markdown",
   "metadata": {},
   "source": [
    "Our client is a dating coach, and she the same question about her country's marriage trends and wished to gain more insight how it could impact her clients.\n",
    "\n",
    "For our clients we will explore how the following\n",
    "1. The Crude Marriage Rate (CRM) A look at a population's general inclinations toward getting married\n",
    "2. The average age of the bride and groom at first marriage to how late or early in adulthood people are marrying\n",
    "3. And the age group of first marriage, for a detailed look at what ages are the most common for men and women, and if there is a trend in delaying marriage. \n",
    "\n",
    "Analyzing these trends will reveal the people's expectation and preferences when it comes to planning out their relationships."
   ]
  },
  {
   "cell_type": "markdown",
   "metadata": {},
   "source": [
    "# What Data Do We Have At out Disposal?\n",
    "Our our explorations we have pulled data from two sources: \n",
    "1. [Eurostat](https://ec.europa.eu/eurostat/web/main/home) - Provides and harmonizes statistics across member states of the European Union\n",
    "2. [BDL](https://bdl.stat.gov.pl/bdl/start) - The Local Data Bank (BDL). Poland's largest database for national metrics\n",
    "\n",
    "From BDL\n",
    "- *Marriages Contracted by Age of Newlyweds* - Provides the age grouping of men and women at time of marriage\n",
    "- *Marriages Contracted by Year* - The year and total marriages\n",
    "- *Poland Population* - Total Population of the country from 2005\n",
    "\n",
    "From Eurostat\n",
    "- *Eu CMR* - Provides the European Union's crude marriage rate\n",
    "- *Marriage by Singular Age* - Provides the total number of marriages for each age of both groom and bride for each year\n",
    " "
   ]
  },
  {
   "cell_type": "markdown",
   "metadata": {},
   "source": [
    "## Loading the Data"
   ]
  },
  {
   "cell_type": "markdown",
   "metadata": {},
   "source": [
    "# Data Wrangling"
   ]
  },
  {
   "cell_type": "markdown",
   "metadata": {},
   "source": [
    "### Marriages by Age Group\n",
    "\n",
    "For the marriage data by age groups, we will concatenate the datasets for male and female and drop unnecessary columns."
   ]
  },
  {
   "cell_type": "markdown",
   "metadata": {},
   "source": [
    "Our client specified that she had a focus on people dating in their early adulthood to late 30's, so we will group all ages past 40 into a single age group. "
   ]
  },
  {
   "cell_type": "markdown",
   "metadata": {},
   "source": [
    "To aid in our Analysis, we will compute the percentage of the total of marriages that each age group contributes and the age groups rank."
   ]
  },
  {
   "cell_type": "markdown",
   "metadata": {},
   "source": [
    "### Total Marriages by Year"
   ]
  },
  {
   "cell_type": "markdown",
   "metadata": {},
   "source": [
    "Handling of this data is straightforward. We will extract the 'Year' and 'Value' columns for our analysis."
   ]
  },
  {
   "cell_type": "markdown",
   "metadata": {},
   "source": [
    "### Total Population\n",
    "\n",
    "We will process total population data in a similar fashion. We will extract the 'Year' and 'Value' columns while dropping any row with missing data."
   ]
  },
  {
   "cell_type": "markdown",
   "metadata": {},
   "source": [
    "### Poland's Crude Marriage Rate\n"
   ]
  },
  {
   "cell_type": "markdown",
   "metadata": {},
   "source": [
    "To calculate the crude marriage rate of Poland, we simply divide the number of marriages buy the total population across each year and multiply by 1,000 to get the number of marriages per 1,000 people."
   ]
  },
  {
   "cell_type": "markdown",
   "metadata": {},
   "source": [
    "### EU's Crude Marriage Rate"
   ]
  },
  {
   "cell_type": "markdown",
   "metadata": {},
   "source": [
    "Cleaning this dataset only required that we extract the Year, the CMR column and filter for the European Union as a whole. This will aid in comparing the trend in Poland to the EU. "
   ]
  },
  {
   "cell_type": "markdown",
   "metadata": {},
   "source": [
    "We will merge the cmr rate we calculated for poland, with the EU cmr data."
   ]
  },
  {
   "cell_type": "markdown",
   "metadata": {},
   "source": [
    "### Ave Age of First Marriage"
   ]
  },
  {
   "cell_type": "markdown",
   "metadata": {},
   "source": [
    "To get an accurate value for the average age at time of marriage, we will compute the weighted average using the number of marriages contracted for each age. Other datasets have this information already formatted, but start at 2011 only. Using this method we can get the same metric starting from 1995."
   ]
  },
  {
   "cell_type": "markdown",
   "metadata": {},
   "source": [
    "The data set will be grouped by Year and Sex, and then we will apply a function to calculate the weighted average age."
   ]
  },
  {
   "cell_type": "markdown",
   "metadata": {},
   "source": [
    "# Visualizing the Data"
   ]
  },
  {
   "cell_type": "markdown",
   "metadata": {},
   "source": [
    "## Crude Marriage Rates"
   ]
  },
  {
   "cell_type": "markdown",
   "metadata": {},
   "source": [
    "Our chart shows that during times of positive or negative economic outlook, the marriage rates have grown or contracted accordingly. In 2004, Poland was admitted to the European Union with a positive expectation about the benefits it would bring to the national economy. We can see a sharp increase in marriage rates until 2008.\n",
    "\n",
    "After the 2008 Financial Crisis, the marriage rate has been steadily decreasing. Unsurprisingly, we see a sharp drop in 2020, right as the COVID-19 Pandemic it at its highest point.\n",
    "\n",
    "Interestingly, Poland faired comparatively well in the 2008 recession, with positive GDP growth consistent from 2009 to 2011 <sup>[1](https://tradingeconomics.com/poland/full-year-gdp-growth)</sup>. This is contrasted with the period from 2014 to 2019 GDP where growth was consistently above 3%, and crude marriage rate averaged held steady at 5.0.\n",
    "\n",
    " We can infer two things, positive economic periods may be overshadowed by an individual's perception of economic security not to mention changes in society's attitude towards the importance of marriage."
   ]
  },
  {
   "cell_type": "markdown",
   "metadata": {},
   "source": [
    "### Average Age of Marriage"
   ]
  },
  {
   "cell_type": "markdown",
   "metadata": {},
   "source": [
    "A key indicator of societal attitude towards marriage is the average age at which people marry. In many Western and developed nations there has been a trend of postponing marriage to later stages of life. Many factors contribute to this, including teh desire for financial security, a reduce emphasis on marriage overall, and a perceived high cost of starting a family. \n",
    "\n",
    "Poland seemingly is following a similar trend, as the average age of marriage for men and women has steadily increased over the years. On average Men are marrying six years later in life and women getting married seven years later than in previous decades.\n",
    "\n",
    "We will examine marriages by the specific age groups, to get a deeper insight of how perception or at least the desire to marry have changed over time."
   ]
  },
  {
   "cell_type": "markdown",
   "metadata": {},
   "source": [
    "## Marriages By Age Groups"
   ]
  },
  {
   "cell_type": "markdown",
   "metadata": {},
   "source": [
    "#### Women\n",
    "We can readily see the proportion of age group of 20-24 years old females has dropped quite significantly; by roughly 17 percentage points over the that last 14 years. This drop is not so surprising, considering trends that younger women continue to focus on higher education and career, and opting to start a family later in life. \n",
    "\n",
    "The age group of 25-29 on the other hand, still remains the popular age bracket for young women, seeing ver little shift "
   ]
  },
  {
   "cell_type": "markdown",
   "metadata": {},
   "source": [
    "#### Men\n",
    "For men the trend is very similar. Marriages by men in early twenties has dropped by 12 percentage points and late twenties by almost the same at 11 percentage points. \n",
    "\n",
    "Often, financial stability and career development are the primary reason why men are waiting until their thirties to begin a family. Other sociological factors come into play as well, as for women, such as the change in attitudes toward traditional relationships."
   ]
  },
  {
   "cell_type": "markdown",
   "metadata": {},
   "source": [
    "## Issue with this approach\n",
    "A challenge with using the relative percentage of total marriages by age group is that a change in one group's value changes all other. This is an example of multi-collinearity, where an increase in proportion for one group, results in a decrease for the rest.\n",
    "\n",
    "While this analysis is helpful at understanding the _proportion_ of marriages by age group in a given year, it does not accurately show the trend independent of other groups. \n",
    "\n",
    "One option is to plot the absolute number of marriages, though this approach, but it does not account for changes in population overall. For example an increase in marriages for age groups 25-29 may be misleading if  there was also a increase in the total population.\n",
    "\n",
    "## CMR for Age Groups\n",
    "To avoid these issues, we will use the crude  marriage rate (CMR) for each age group. This provides a more accurate comparison by normalizing the number of marriages against the total population, while avoiding the influence of changes in total population"
   ]
  },
  {
   "cell_type": "markdown",
   "metadata": {},
   "source": [
    "# Analysis\n",
    "## Women\n",
    "For age groups 30-34 and 35-39, there has been relatively minor change in the number of marriages  compared to the changes in  20-24 and 25-29 age brackets. For women aged group 20-24 the number of marriages has dropped by 66% and has fallen by 60% for a those aged 25-29 (while still remaining the most popular age group for marriage). The sharp decline in marriages for women aged 20-29 aligns with the overall decreasing crude marriage rate for Poland. This indicates that the decline in marriages has been driven by younger women.\n",
    "\n",
    "What stands out is that there is no significant increase in marriages for women aged 30-39. We can infer that there is likely a sociological factor at play. As seen elsewhere, there could be a cultural shift away from marriage in general, where the importance of marriage has decreased or are forgoing marriage altogether.\n",
    "\n",
    "\n",
    "## Men\n",
    "The trends for men closely mirror that of women. Marriages by men of ages 20-24 has fallen by 75% and has fallen by 50% for men aged 25-29. And as in the case with women, marriages in the early and late thirties has remained relatively constant.\n",
    "\n",
    "\n",
    "# Findings\n",
    "For our client, we provided the insight:\n",
    "* The overall rate of marriage in Poland has been decreasing since 2008, and has begun to closely mirror the trends of Europe\n",
    "* The decline in marriages is heavily influenced by a decline in the number of young men and women between ages 20-29 getting married\n",
    "* The number of marriages by those in their 30's remained relatively stable\n"
   ]
  }
 ],
 "metadata": {
  "kernelspec": {
   "display_name": "base",
   "language": "python",
   "name": "python3"
  },
  "language_info": {
   "codemirror_mode": {
    "name": "ipython",
    "version": 3
   },
   "file_extension": ".py",
   "mimetype": "text/x-python",
   "name": "python",
   "nbconvert_exporter": "python",
   "pygments_lexer": "ipython3",
   "version": "3.11.5"
  }
 },
 "nbformat": 4,
 "nbformat_minor": 2
}
