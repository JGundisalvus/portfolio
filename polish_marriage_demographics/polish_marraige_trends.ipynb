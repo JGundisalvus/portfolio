{
 "cells": [
  {
   "cell_type": "markdown",
   "metadata": {},
   "source": [
    "# How Have Marriages Changed Over the Years?"
   ]
  },
  {
   "cell_type": "markdown",
   "metadata": {},
   "source": [
    "Our client is a dating coach, and she the same question about her country's marriage trends and wished to gain more insight how it could impact her clients.\n",
    "\n",
    "For our clients we will explore how the following\n",
    "1. The Crude Marriage Rate (CRM) A look at a population's general inclinations toward getting married\n",
    "2. The average age of the bride and groom at first marriage to how late or early in adulthood people are marrying\n",
    "3. And the age group of first marriage, for a detailed look at what ages are the most common for men and women, and if there is a trend in delaying marriage. \n",
    "\n",
    "Analyzing these trends will reveal the people's expectation and preferences when it comes to planning out their relationships."
   ]
  },
  {
   "cell_type": "markdown",
   "metadata": {},
   "source": [
    "# What Data is Available?"
   ]
  },
  {
   "cell_type": "markdown",
   "metadata": {},
   "source": [
    "Our our explorations we have pulled data from two sources: \n",
    "1. [Eurostat](https://ec.europa.eu/eurostat/web/main/home) - Provides and harmonizes statistics across member states of the European Union\n",
    "2. [BDL](https://bdl.stat.gov.pl/bdl/start) - The Local Data Bank (BDL). Poland's largest database for national metrics\n",
    "\n",
    "From BDL\n",
    "- *Marriages Contracted by Age of Newlyweds* - Provides the age grouping of men and women at time of marriage\n",
    "- *Marriages Contracted by Year* - The year and total marriages\n",
    "- *Poland Population* - Total Population of the country from 2005\n",
    "\n",
    "From Eurostat\n",
    "- *Eu CMR* - Provides the European Union's crude marriage rate\n",
    "- *Marriage by Singular Age* - Provides the total number of marriages for each age of both groom and bride for each year\n",
    " "
   ]
  },
  {
   "cell_type": "markdown",
   "metadata": {},
   "source": [
    "## Loading the Data"
   ]
  },
  {
   "cell_type": "code",
   "execution_count": 1,
   "metadata": {
    "tags": [
     "hide"
    ]
   },
   "outputs": [],
   "source": [
    "import pandas as pd\n",
    "import numpy as np\n",
    "import matplotlib.pyplot as plt\n",
    "import seaborn as sns\n",
    "from matplotlib.ticker import FuncFormatter\n",
    "\n",
    "plt.style.use('./assets/executive_report.mplstyle')"
   ]
  },
  {
   "cell_type": "code",
   "execution_count": 2,
   "metadata": {
    "tags": [
     "hide"
    ]
   },
   "outputs": [],
   "source": [
    "df_female = pd.read_csv('data/bride age group.csv', sep=';')\n",
    "df_male = pd.read_csv('data/groom age group.csv', sep=';')\n",
    "df_total_marriages = pd.read_csv('data/marriages_contracted_per_year.csv', sep=';')\n",
    "df_pop = pd.read_csv('data/poland_population_2005.csv', sep=';') \n",
    "df_eu_cmr = pd.read_csv('data/tps00206 EU CMR 2001.csv')\n",
    "df_sing_age = pd.read_csv('data/poland_marriages_by_age_gender_year.csv')\n"
   ]
  },
  {
   "cell_type": "markdown",
   "metadata": {},
   "source": [
    "# Data Wrangling"
   ]
  },
  {
   "cell_type": "markdown",
   "metadata": {},
   "source": [
    "### Marriages by Age Group\n",
    "\n",
    "For the marriage data by age groups, we will concatenate the datasets for male and female and drop unnecessary columns."
   ]
  },
  {
   "cell_type": "code",
   "execution_count": null,
   "metadata": {
    "tags": [
     "hide"
    ]
   },
   "outputs": [],
   "source": [
    "# Denoting sex for each\n",
    "df_female['sex'] = 'female'\n",
    "df_male['sex'] = 'male'\n",
    "\n",
    "# Dropping the rows representing total marriages regardless of age group \n",
    "df_female = df_female[df_female['Age of females'] != 'females total']\n",
    "df_male = df_male[df_male['Age of males'] != 'males total']\n",
    "\n",
    "# Dropping counterpart age of female and age of male columns\n",
    "df_female.drop(columns='Age of males', inplace=True)\n",
    "df_male.drop(columns='Age of females', inplace=True)\n",
    "\n",
    "# Rename to age group\n",
    "df_female.rename(columns={'Age of females' : 'age group'}, inplace=True)\n",
    "df_male.rename(columns={'Age of males' : 'age group'}, inplace=True)\n",
    "\n",
    "# Concatenating and renaming the columns\n",
    "df_marriage = pd.concat([df_male, df_female], axis=0)\n",
    "df_marriage.drop(\n",
    "    columns=['Code','Name', 'Location', 'Types of marriages', 'Measure Unit', 'Attribute', 'Unnamed: 10'],\n",
    "    inplace=True)\n",
    "\n",
    "del(df_female, df_male)\n",
    "df_marriage.head(5)"
   ]
  },
  {
   "cell_type": "markdown",
   "metadata": {},
   "source": [
    "Our client specified that she had a focus on people dating in their early adulthood to late 30's, so we will group all ages past 40 into a single age group. "
   ]
  },
  {
   "cell_type": "code",
   "execution_count": null,
   "metadata": {
    "tags": [
     "hide"
    ]
   },
   "outputs": [],
   "source": [
    "new_age_dict = {\n",
    "    'under 20 years' : '<20',\n",
    "    '40-49' : '+40',\n",
    "    '50-59' : '+40',\n",
    "    '60 and more' : '+40'\n",
    "}\n",
    "\n",
    "df_marriage['age group'].replace(new_age_dict, inplace= True)\n",
    "df_marriage = df_marriage.groupby(['Year', 'sex', 'age group'])['Value'].sum().reset_index()\n",
    "df_marriage.head(6)"
   ]
  },
  {
   "cell_type": "markdown",
   "metadata": {},
   "source": [
    "To aid in our Analysis, we will compute the percentage of the total of marriages that each age group contributes and the age groups rank."
   ]
  },
  {
   "cell_type": "code",
   "execution_count": null,
   "metadata": {
    "tags": [
     "hide"
    ]
   },
   "outputs": [],
   "source": [
    "df_marriage['% of total'] = df_marriage['Value'] / df_marriage.groupby(['Year','sex'])['Value'].transform('sum')\n",
    "df_marriage['rank'] = df_marriage.groupby(['Year','sex'])['Value'].rank(ascending=False)\n",
    "df_marriage.head(6)\n"
   ]
  },
  {
   "cell_type": "markdown",
   "metadata": {},
   "source": [
    "### Total Marriages by Year"
   ]
  },
  {
   "cell_type": "markdown",
   "metadata": {},
   "source": [
    "Handling of this data is straightforward. We will extract the 'Year' and 'Value' columns for our analysis."
   ]
  },
  {
   "cell_type": "code",
   "execution_count": null,
   "metadata": {
    "tags": [
     "hide"
    ]
   },
   "outputs": [],
   "source": [
    "df_total_marriages = df_total_marriages.loc[:, ['Year','Value']]\n",
    "df_total_marriages.head(5)"
   ]
  },
  {
   "cell_type": "markdown",
   "metadata": {},
   "source": [
    "### Total Population\n",
    "\n",
    "We will process total population data in a similar fashion. We will extract the 'Year' and 'Value' columns while dropping any row with missing data."
   ]
  },
  {
   "cell_type": "code",
   "execution_count": null,
   "metadata": {
    "tags": [
     "hide"
    ]
   },
   "outputs": [],
   "source": [
    "df_pop = df_pop[['Year', 'Value']].dropna(axis=0, how='any')\n",
    "df_pop.head(5)"
   ]
  },
  {
   "cell_type": "markdown",
   "metadata": {},
   "source": [
    "### Poland's Crude Marriage Rate\n"
   ]
  },
  {
   "cell_type": "markdown",
   "metadata": {},
   "source": [
    "To calculate the crude marriage rate of Poland, we simply divide the number of marriages buy the total population across each year and multiply by 1,000 to get the number of marriages per 1,000 people."
   ]
  },
  {
   "cell_type": "code",
   "execution_count": null,
   "metadata": {
    "tags": [
     "hide"
    ]
   },
   "outputs": [],
   "source": [
    "df_cmr = pd.merge(df_total_marriages, df_pop, on='Year', how='outer')\n",
    "df_cmr = df_cmr.dropna().reset_index(drop=True)\n",
    "\n",
    "df_cmr.columns = ['year', 'marriages', 'population']\n",
    "df_cmr['cmr'] = (df_cmr['marriages'] / df_cmr['population'] * 1000).round(1)\n",
    "df_cmr.drop(columns=['marriages', 'population'], inplace=True)\n",
    "\n",
    "df_cmr.tail(10)"
   ]
  },
  {
   "cell_type": "markdown",
   "metadata": {},
   "source": [
    "### EU's Crude Marriage Rate"
   ]
  },
  {
   "cell_type": "markdown",
   "metadata": {},
   "source": [
    "Cleaning this dataset only required that we extract the Year, the CMR column and filter for the European Union as a whole. This will aid in comparing the trend in Poland to the EU. "
   ]
  },
  {
   "cell_type": "code",
   "execution_count": null,
   "metadata": {
    "tags": [
     "hide"
    ]
   },
   "outputs": [],
   "source": [
    "df_eu_cmr = df_eu_cmr[df_eu_cmr['geo'] == 'EU27_2020']\n",
    "df_eu_cmr = df_eu_cmr.loc[:, ['TIME_PERIOD', 'OBS_VALUE']]\n",
    "df_eu_cmr.columns = ['year', 'cmr eu']\n",
    "df_eu_cmr.head(10)"
   ]
  },
  {
   "cell_type": "markdown",
   "metadata": {},
   "source": [
    "We will merge the cmr rate we calculated for poland, with the EU cmr data."
   ]
  },
  {
   "cell_type": "code",
   "execution_count": null,
   "metadata": {
    "tags": [
     "hide"
    ]
   },
   "outputs": [],
   "source": [
    "df_cmr = pd.merge(df_cmr, df_eu_cmr, on='year', how='outer')\n",
    "df_cmr = df_cmr.sort_values('year').reset_index(drop=True)\n",
    "del(df_eu_cmr)\n",
    "df_cmr.tail(10)"
   ]
  },
  {
   "cell_type": "markdown",
   "metadata": {},
   "source": [
    "### Ave Age of First Marriage"
   ]
  },
  {
   "cell_type": "markdown",
   "metadata": {},
   "source": [
    "To get an accurate value for the average age at time of marriage, we will compute the weighted average using the number of marriages contracted for each age. Other datasets have this information already formatted, but start at 2011 only. Using this method we can get the same metric starting from 1995."
   ]
  },
  {
   "cell_type": "code",
   "execution_count": null,
   "metadata": {
    "tags": [
     "hide"
    ]
   },
   "outputs": [],
   "source": [
    "df_sing_age.head(5)"
   ]
  },
  {
   "cell_type": "markdown",
   "metadata": {},
   "source": [
    "The data set will be grouped by Year and Sex, and then we will apply a function to calculate the weighted average age."
   ]
  },
  {
   "cell_type": "code",
   "execution_count": null,
   "metadata": {
    "tags": [
     "hide"
    ]
   },
   "outputs": [],
   "source": [
    "# Correcting 'age' to be an integer\n",
    "df_sing_age['age'] = df_sing_age['age'].str.lstrip('Y').astype(int)\n",
    "\n",
    "# Calculating the weighted average\n",
    "df_avg_age = df_sing_age.groupby(['TIME_PERIOD', 'sex']).apply(\n",
    "    lambda x: (x['age'] * x['OBS_VALUE']).sum() / x['OBS_VALUE'].sum()\n",
    ").round(1).reset_index(name='ave age')\n",
    "\n",
    "# Formatting columns and values\n",
    "df_avg_age.columns = ['year', 'sex', 'ave age']\n",
    "df_avg_age.replace(to_replace={'F': 'female', 'M':'male'}, inplace=True)\n",
    "\n",
    "df_avg_age.tail(10)"
   ]
  },
  {
   "cell_type": "code",
   "execution_count": 13,
   "metadata": {
    "tags": [
     "hide"
    ]
   },
   "outputs": [],
   "source": [
    "## Exporting Dataframes for Dash app\n",
    "\n",
    "if False:\n",
    "    df_avg_age.to_csv(f'./data/dash_data/average_marriage_age.csv')\n",
    "    df_cmr.to_csv(f'./data/dash_data/crude_marriage_rate.csv')\n",
    "    df_marriage.to_csv(f'./data/dash_data/marriage_by_age_group.csv')\n",
    "    # df_pop.to_csv(f'./data/dash_data/df_.csv')\n",
    "    df_total_marriages.to_csv(f'./data/dash_data/total_marriages.csv')\n"
   ]
  },
  {
   "cell_type": "markdown",
   "metadata": {},
   "source": [
    "# Visualizing the Data"
   ]
  },
  {
   "cell_type": "markdown",
   "metadata": {},
   "source": [
    "## Crude Marriage Rates"
   ]
  },
  {
   "cell_type": "code",
   "execution_count": null,
   "metadata": {
    "tags": [
     "hide"
    ]
   },
   "outputs": [],
   "source": [
    "plt.figure(figsize=(10,5))\n",
    "\n",
    "# ----- Axis Setup ----- #\n",
    "ax1 = plt.gca()\n",
    "\n",
    "# ----- Plots ----- #\n",
    "sns.lineplot(df_cmr, x='year', y='cmr', label='Poland CMR', ax=ax1)\n",
    "sns.lineplot(df_cmr, x ='year', y ='cmr eu', label= 'EU CMR', ax=ax1, linestyle='--')\n",
    "\n",
    "# ----- Title Formatting ---- #\n",
    "plt.title('Marriage Rates Are Influenced by Economic Outlook', loc='left', ha='left')\n",
    "plt.xlabel('')\n",
    "\n",
    "# ----- Axis Formatting ----- #\n",
    "ax1.set_ylabel(ylabel='Marriages per 1,000')\n",
    "ax1.grid(False)\n",
    "\n",
    "# ----- Legend Formatting ----- #\n",
    "lines_1, labels_1 = ax1.get_legend_handles_labels()\n",
    "\n",
    "legend = plt.legend(title='', loc='lower center', ncol=len(df_avg_age['sex'].unique()))\n",
    "legend.get_frame().set_facecolor('none')\n",
    "legend.get_frame().set_edgecolor('none')\n",
    "\n",
    "# ----- Vlines ---- #\n",
    "events = [[2004,\"Poland enters\\n the EU\", 6.80], [2008,'\\'08 Financial Crisis', 6.75], [2020, 'COVID-19', 6.0]]\n",
    "\n",
    "for event in events:\n",
    "    plt.vlines(event[0], 3, 7, 'gray',':', label=event[1],zorder =0)\n",
    "    plt.text(x = event[0]+.35, y = event[2], s= event[1])\n",
    "\n",
    "plt.show()"
   ]
  },
  {
   "cell_type": "markdown",
   "metadata": {},
   "source": [
    "Our chart shows that during times of positive or negative economic outlook, the marriage rates have grown or contracted accordingly. In 2004, Poland was admitted to the European Union with a positive expectation about the benefits it would bring to the national economy. We can see a sharp increase in marriage rates until 2008.\n",
    "\n",
    "After the 2008 Financial Crisis, the marriage rate has been steadily decreasing. Unsurprisingly, we see a sharp drop in 2020, right as the COVID-19 Pandemic it at its highest point.\n",
    "\n",
    "Interestingly, Poland faired comparatively well in the 2008 recession, with positive GDP growth consistent from 2009 to 2011 <sup>[1](https://tradingeconomics.com/poland/full-year-gdp-growth)</sup>. This is contrasted with the period from 2014 to 2019 GDP where growth was consistently above 3%, and crude marriage rate averaged held steady at 5.0.\n",
    "\n",
    " We can infer two things, positive economic periods may be overshadowed by an individual's perception of economic security not to mention changes in society's attitude towards the importance of marriage."
   ]
  },
  {
   "cell_type": "markdown",
   "metadata": {},
   "source": [
    "### Average Age of Marriage"
   ]
  },
  {
   "cell_type": "code",
   "execution_count": null,
   "metadata": {
    "tags": [
     "hide"
    ]
   },
   "outputs": [],
   "source": [
    "plt.figure(figsize=(10,4))\n",
    "\n",
    "for sex in df_avg_age['sex'].unique():\n",
    "    subset = df_avg_age[df_avg_age['sex'] == sex]\n",
    "    plt.plot(subset['year'], subset['ave age'], label=sex)\n",
    "    axis = plt.gca()\n",
    "    axis.yaxis.set_visible(False)\n",
    "\n",
    "    first_row = subset.iloc[[0]]  # Get the first row\n",
    "    last_row = subset.iloc[[-1]]  # Get the last row\n",
    "    # Combine them into a single DataFrame\n",
    "    df_first_last = pd.concat([first_row, last_row])\n",
    "    plt.scatter(df_first_last['year'], df_first_last['ave age'])\n",
    "\n",
    "    for _, row in df_first_last.iterrows():\n",
    "        text = plt.annotate(f\"{row['ave age']:.0f}\" + ' yrs',\n",
    "                        xy = (row['year'], row['ave age']),\n",
    "                        xytext =(5,11),\n",
    "                        textcoords ='offset points',\n",
    "                        ha='left', \n",
    "                        va='center',\n",
    "                        fontsize =14\n",
    "                        )\n",
    "        \n",
    "plt.yticks([])\n",
    "plt.gca().yaxis.set_visible(False)\n",
    "# plt.gca().spines['left'].set_visible(False)\n",
    "\n",
    "# Legend\n",
    "legend = plt.legend(title='', loc='lower center', ncol=len(df_avg_age['sex'].unique()))\n",
    "legend.get_frame().set_facecolor('none') \n",
    "legend.get_frame().set_edgecolor('none') \n",
    "\n",
    "# Labels\n",
    "plt.xlabel('')\n",
    "plt.ylabel('Average Age')\n",
    "plt.title('The Average Age of Bride and Groom is Increasing')\n",
    "\n",
    "plt.show()"
   ]
  },
  {
   "cell_type": "markdown",
   "metadata": {},
   "source": [
    "A key indicator of societal attitude towards marriage is the average age at which people marry. In many Western and developed nations there has been a trend of postponing marriage to later stages of life. Many factors contribute to this, including teh desire for financial security, a reduce emphasis on marriage overall, and a perceived high cost of starting a family. \n",
    "\n",
    "Poland seemingly is following a similar trend, as the average age of marriage for men and women has steadily increased over the years. On average Men are marrying six years later in life and women getting married seven years later than in previous decades.\n",
    "\n",
    "We will examine marriages by the specific age groups, to get a deeper insight of how perception or at least the desire to marry have changed over time."
   ]
  },
  {
   "cell_type": "markdown",
   "metadata": {},
   "source": [
    "## Marriages By Age Groups"
   ]
  },
  {
   "cell_type": "code",
   "execution_count": 16,
   "metadata": {
    "tags": [
     "hide"
    ]
   },
   "outputs": [],
   "source": [
    "custom_palette = {\n",
    "    '<20': 'red',\n",
    "    '20-24': '#e60049',\n",
    "    '25-29': '#9b19f5',\n",
    "    '30-34': \"#0bb4ff\",\n",
    "    '35-39': \"#ffa300\",\n",
    "    '+40': 'grey'\n",
    "}"
   ]
  },
  {
   "cell_type": "code",
   "execution_count": null,
   "metadata": {
    "tags": [
     "hide"
    ]
   },
   "outputs": [],
   "source": [
    "import matplotlib.ticker as mtick\n",
    "fig, axes = plt.subplots(2, 1, figsize=(12, 8))\n",
    "fig.suptitle('Proportion of Marriages by Age group')\n",
    "\n",
    "for i, sex in enumerate(df_marriage['sex'].unique()):\n",
    "    df_temp = df_marriage[(df_marriage['sex'] == sex) & (df_marriage['age group'] != '<20')]\n",
    "\n",
    "    sns.lineplot(df_temp, x='Year', y='% of total', ax=axes[i], hue='age group', marker='o', palette=custom_palette)\n",
    "\n",
    "    handles, labels = axes[i].get_legend_handles_labels()\n",
    "    \n",
    "    order = [1,2,3,4,0] \n",
    "    axes[i].legend([handles[idx] for idx in order], [labels[idx] for idx in order])\n",
    "    axes[i].set_title(f'{\"Women are Choosing to Delay Marriage\" if sex == \"female\" else \"Early Marriage For Men Has Dropped in Popularity\"}')\n",
    "    axes[i].yaxis.set_major_formatter(mtick.PercentFormatter(xmax=1, decimals=0))  # Assuming 'Value' is in the range [0, 1]\n",
    "    \n",
    "    for age_group in df_temp['age group'].unique():\n",
    "\n",
    "        df_group = df_temp[df_temp['age group'] == age_group]\n",
    "        last_row = df_group.iloc[-1]\n",
    "        first_row = df_group.iloc[0]\n",
    "\n",
    "        xy_pos_last = (5,0)\n",
    "        xy_pos_first = (-5, 0)\n",
    "\n",
    "        # Manually adjusting the position of annotations\n",
    "        if sex == 'female':\n",
    "            if age_group == '20-24':\n",
    "                xy_pos_last = (5,-8)\n",
    "            elif age_group == '30-34':\n",
    "                xy_pos_last = (5,7)\n",
    "\n",
    "        if sex == 'male':\n",
    "            if age_group == '20-24':\n",
    "                xy_pos_first = (0, 10)\n",
    "            elif age_group == '30-34':\n",
    "                xy_pos_first = (0, -10)\n",
    "\n",
    "        last_text = axes[i].annotate(\"{:.0%}\".format(last_row['% of total']),\n",
    "                         xy = (last_row['Year'],last_row['% of total']),\n",
    "                         xytext = xy_pos_last,\n",
    "                         textcoords = 'offset points',\n",
    "                         ha = 'left', \n",
    "                         va = 'center',\n",
    "                         fontsize = 14,\n",
    "                         color = custom_palette[age_group])\n",
    "        \n",
    "        first_text = axes[i].annotate(\"{:.0%}\".format(first_row['% of total']),\n",
    "                         xy = (first_row['Year'], first_row['% of total']),\n",
    "                         xytext = xy_pos_first,\n",
    "                         textcoords = 'offset points',\n",
    "                         ha = 'right', \n",
    "                         va = 'center',\n",
    "                         fontsize = 14,\n",
    "                         color = custom_palette[age_group])\n",
    "        \n",
    "for ax in axes:\n",
    "    ax.set_yticks([]) \n",
    "    ax.yaxis.set_ticks_position('none')\n",
    "plt.tight_layout()\n",
    "plt.show()"
   ]
  },
  {
   "cell_type": "markdown",
   "metadata": {},
   "source": [
    "#### Women\n",
    "We can readily see the proportion of age group of 20-24 years old females has dropped quite significantly; by roughly 17 percentage points over the that last 14 years. This drop is not so surprising, considering trends that younger women continue to focus on higher education and career, and opting to start a family later in life. \n",
    "\n",
    "The age group of 25-29 on the other hand, still remains the popular age bracket for young women, seeing ver little shift "
   ]
  },
  {
   "cell_type": "markdown",
   "metadata": {},
   "source": [
    "#### Men\n",
    "For men the trend is very similar. Marriages by men in early twenties has dropped by 12 percentage points and late twenties by almost the same at 11 percentage points. \n",
    "\n",
    "Often, financial stability and career development are the primary reason why men are waiting until their thirties to begin a family. Other sociological factors come into play as well, as for women, such as the change in attitudes toward traditional relationships."
   ]
  },
  {
   "cell_type": "markdown",
   "metadata": {},
   "source": [
    "## Issue with this approach\n",
    "A challenge with using the relative percentage of total marriages by age group is that a change in one group's value changes all other. The groups are not independent variables; an increase in one group's proportions, necessitates in a decrease for the rest.\n",
    "\n",
    "While this analysis is helpful at understanding the _proportion_ of marriages by age group in a given year, it does not accurately show the trend independent of other groups. \n",
    "\n",
    "One option is to plot the absolute number of marriages, though this approach, but it does not account for changes in population overall. For example an increase in marriages for age groups 25-29 may be misleading if  there was also a increase in the total population.\n",
    "\n",
    "## CMR for Age Groups\n",
    "To avoid these issues, we will use the crude  marriage rate (CMR) for each age group. This provides a more accurate comparison by normalizing the number of marriages against the total population, while avoiding the influence of changes in total population"
   ]
  },
  {
   "cell_type": "code",
   "execution_count": 18,
   "metadata": {
    "tags": [
     "hide"
    ]
   },
   "outputs": [],
   "source": [
    "df_grouped_cmr = pd.merge(df_marriage, df_pop, on='Year', how='left')\n",
    "df_grouped_cmr = df_grouped_cmr.rename(columns={'Value_x':'total marriages', 'Value_y':'population'})\n",
    "# We multiple by 10,000 instead of 1,000 so we have more readable values\n",
    "df_grouped_cmr['group cmr'] = df_grouped_cmr['total marriages'] / df_grouped_cmr['population'] * 10_000\n"
   ]
  },
  {
   "cell_type": "code",
   "execution_count": null,
   "metadata": {
    "tags": [
     "hide"
    ]
   },
   "outputs": [],
   "source": [
    "fig, axes = plt.subplots(2, 1, figsize=(12, 10))\n",
    "import matplotlib.ticker as mtick\n",
    "\n",
    "for i, sex in enumerate(df_grouped_cmr['sex'].unique()):\n",
    "    df_temp = df_grouped_cmr[(df_grouped_cmr['sex'] == sex) & (df_grouped_cmr['age group'] != '<20')]\n",
    "\n",
    "    sns.lineplot(df_temp, x='Year', y='group cmr', ax=axes[i], hue='age group', marker='o', palette=custom_palette)\n",
    "\n",
    "    handles, labels = axes[i].get_legend_handles_labels()\n",
    "    \n",
    "    order = [1,2,3,4,0] \n",
    "    axes[i].legend([handles[idx] for idx in order], [labels[idx] for idx in order])\n",
    "    axes[i].set_title(f'{\"Women are Choosing to Delay Marriage\" if sex == \"female\" else \"Early Marriage For Men Has Fallen Rapidly Over The Years\"}')\n",
    "    axes[i].yaxis.set_major_formatter(mtick.PercentFormatter(xmax=1, decimals=0))  # Assuming 'Value' is in the range [0, 1]\n",
    "    \n",
    "    for age_group in df_temp['age group'].unique():\n",
    "\n",
    "        df_group = df_temp[df_temp['age group'] == age_group]\n",
    "        last_row = df_group.iloc[-1]\n",
    "        first_row = df_group.iloc[0]\n",
    "\n",
    "        xy_pos_last = (5,0)\n",
    "        xy_pos_first = (-5, 0)\n",
    "\n",
    "        if sex == 'female':\n",
    "            if age_group == '20-24':\n",
    "                xy_pos_last = (5,-8)\n",
    "            elif age_group == '30-34':\n",
    "                xy_pos_last = (5,7)\n",
    "\n",
    "        if sex == 'male':\n",
    "            if age_group == '20-24':\n",
    "                xy_pos_first = (0, 10)\n",
    "            elif age_group == '30-34':\n",
    "                xy_pos_first = (0, -10)\n",
    "\n",
    "        last_text = axes[i].annotate(\"{:.0f}\".format(last_row['group cmr']),\n",
    "                         xy = (last_row['Year'],last_row['group cmr']),\n",
    "                         xytext = xy_pos_last,\n",
    "                         textcoords = 'offset points',\n",
    "                         ha = 'left', \n",
    "                         va = 'center',\n",
    "                         fontsize = 14,\n",
    "                         color = custom_palette[age_group])\n",
    "        \n",
    "        first_text = axes[i].annotate(\"{:.0f}\".format(first_row['group cmr']),\n",
    "                         xy = (first_row['Year'], first_row['group cmr']),\n",
    "                         xytext = xy_pos_first,\n",
    "                         textcoords = 'offset points',\n",
    "                         ha = 'right', \n",
    "                         va = 'center',\n",
    "                         fontsize = 14,\n",
    "                         color = custom_palette[age_group])\n",
    "        \n",
    "# Hide y-axis labels and spine if desired\n",
    "for ax in axes:\n",
    "    ax.set_yticks([])  # Remove tick marks\n",
    "    ax.yaxis.set_ticks_position('none')  # Ensure no ticks are visible\n",
    "plt.tight_layout()\n",
    "plt.show()"
   ]
  },
  {
   "cell_type": "markdown",
   "metadata": {},
   "source": [
    "# Analysis\n",
    "## Women\n",
    "For age groups 30-34 and 35-39, there has been relatively minor change in the number of marriages  compared to the changes in  20-24 and 25-29 age brackets. For women aged group 20-24 the number of marriages has dropped by 66% and has fallen by 60% for a those aged 25-29 (while still remaining the most popular age group for marriage). The sharp decline in marriages for women aged 20-29 aligns with the overall decreasing crude marriage rate for Poland. This indicates that the decline in marriages has been driven by younger women.\n",
    "\n",
    "What stands out is that there is no significant increase in marriages for women aged 30-39. We can infer that there is likely a sociological factor at play. As seen elsewhere, there could be a cultural shift away from marriage in general, where the importance of marriage has decreased or are forgoing marriage altogether.\n",
    "\n",
    "\n",
    "## Men\n",
    "The trends for men closely mirror that of women. Marriages by men of ages 20-24 has fallen by 75% and has fallen by 50% for men aged 25-29. And as in the case with women, marriages in the early and late thirties has remained relatively constant.\n",
    "\n",
    "\n",
    "# Findings\n",
    "For our client, we provided the insight:\n",
    "* The overall rate of marriage in Poland has been decreasing since 2008, and has begun to closely mirror the trends of Europe\n",
    "* The decline in marriages is heavily influenced by a decline in the number of young men and women between ages 20-29 getting married\n",
    "* The number of marriages by those in their 30's remained relatively stable\n"
   ]
  }
 ],
 "metadata": {
  "kernelspec": {
   "display_name": "base",
   "language": "python",
   "name": "python3"
  },
  "language_info": {
   "codemirror_mode": {
    "name": "ipython",
    "version": 3
   },
   "file_extension": ".py",
   "mimetype": "text/x-python",
   "name": "python",
   "nbconvert_exporter": "python",
   "pygments_lexer": "ipython3",
   "version": "3.11.5"
  }
 },
 "nbformat": 4,
 "nbformat_minor": 2
}
